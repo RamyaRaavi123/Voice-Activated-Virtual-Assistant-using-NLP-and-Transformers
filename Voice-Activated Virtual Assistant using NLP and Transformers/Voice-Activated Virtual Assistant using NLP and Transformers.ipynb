#  Install required library
!pip install azure-cognitiveservices-speech --quiet
!pip install gTTS --quiet
from gtts import gTTS
from datetime import datetime
import IPython.display as ipd
from transformers import T5Tokenizer, T5ForConditionalGeneration

#  Speak using gTTS
def speak(text):
    print("Assistant:", text)
    tts = gTTS(text=text, lang='en')
    tts.save("response.mp3")
    ipd.display(ipd.Audio("response.mp3"))

#  Load T5 model (text simplification)
tokenizer = T5Tokenizer.from_pretrained("t5-small")
model = T5ForConditionalGeneration.from_pretrained("t5-small")

def simplify_text(text):
    input_text = "simplify: " + text
    input_ids = tokenizer.encode(input_text, return_tensors="pt", max_length=512, truncation=True)
    output_ids = model.generate(input_ids, max_length=150, num_beams=4, early_stopping=True)
    return tokenizer.decode(output_ids[0], skip_special_tokens=True)

#  Assistant logic
def generate_response(user_input):
    user_input = user_input.lower()

    if "hello" in user_input:
        return "Hi there! How can I help you today?"
    elif "your name" in user_input:
        return "I'm your voice assistant created completely offline by Ramya."
    elif "time" in user_input:
        return f"The time is {datetime.now().strftime('%I:%M %p')}."
    elif "date" in user_input:
        return f"Today is {datetime.now().strftime('%B %d, %Y')}."
    elif "who made you" in user_input:
        return "I was made by Ramya during the Edunet AI Internship!"
    elif "joke" in user_input:
        return "Why did the neural network go broke? Because it used up all its cache!"
    elif "simplify" in user_input:
        original = user_input.replace("simplify", "").strip()
        if not original:
            return "Please provide a sentence to simplify after the word 'simplify'."
        simplified = simplify_text(original)
        return f"Here’s a simpler version: {simplified}"
    elif user_input in ["exit", "quit"]:
        return "Goodbye!"
    else:
        return fallback_response()

def fallback_response():
    return (
        "Sorry, I didn’t understand that. Try asking:\n"
        "- What's the time?\n"
        "- What's the date?\n"
        "- Simplify this sentence: The process of photosynthesis...\n"
        "- Who made you?\n"
        "- Tell me a joke"
    )

#  Logging (optional)
def log_conversation(user_input, response):
    with open("conversation_log.txt", "a") as f:
        f.write(f"You: {user_input}\nAssistant: {response}\n\n")

# Assistant Loop (run cell-by-cell in Colab)
print(" Voice Assistant (type 'exit' to quit)")
while True:
    user_input = input("You: ")
    if user_input.strip().lower() in ["exit", "quit"]:
        speak("Goodbye!")
        break

    response = generate_response(user_input)
    speak(response)
    log_conversation(user_input, response)
